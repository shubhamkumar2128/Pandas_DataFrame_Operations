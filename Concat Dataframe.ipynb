{
 "cells": [
  {
   "cell_type": "code",
   "execution_count": 28,
   "metadata": {},
   "outputs": [
    {
     "name": "stdout",
     "output_type": "stream",
     "text": [
      "      city  temperature  humidity\n",
      "0    Delhi           30        70\n",
      "1   Mumbai           49        65\n",
      "2  Kolkata           34        34\n",
      "3  Chennai           42        69\n"
     ]
    }
   ],
   "source": [
    "import pandas as pd\n",
    "\n",
    "#Create 1st DataFrame\n",
    "df1=pd.DataFrame({\n",
    "    \"city\":[\"Delhi\",\"Mumbai\",\"Kolkata\",\"Chennai\"],\n",
    "    \"temperature\":[30,49,34,42],\n",
    "    \"humidity\":[70,65,34,69]\n",
    "})\n",
    "print(df1)"
   ]
  },
  {
   "cell_type": "code",
   "execution_count": 27,
   "metadata": {},
   "outputs": [
    {
     "name": "stdout",
     "output_type": "stream",
     "text": [
      "        city  temperature  humidity\n",
      "0    Lucknow           40        40\n",
      "1   Banglore           43        65\n",
      "2  Tamilnadu           44        44\n",
      "3     Sikkim           32        59\n"
     ]
    }
   ],
   "source": [
    "#Create 2nd DataFrame\n",
    "df2=pd.DataFrame({\n",
    "    \"city\":[\"Lucknow\",\"Banglore\",\"Tamilnadu\",\"Sikkim\"],\n",
    "    \"temperature\":[40,43,44,32],\n",
    "    \"humidity\":[40,65,44,59]\n",
    "})\n",
    "print(df2)"
   ]
  },
  {
   "cell_type": "code",
   "execution_count": 40,
   "metadata": {},
   "outputs": [
    {
     "name": "stdout",
     "output_type": "stream",
     "text": [
      "        city  temperature  humidity\n",
      "0      Delhi           30        70\n",
      "1     Mumbai           49        65\n",
      "2    Kolkata           34        34\n",
      "3    Chennai           42        69\n",
      "4    Lucknow           40        40\n",
      "5   Banglore           43        65\n",
      "6  Tamilnadu           44        44\n",
      "7     Sikkim           32        59\n"
     ]
    }
   ],
   "source": [
    "#Concatinate two DataFrame\n",
    "cdf=pd.concat([df1,df2],ignore_index=True)\n",
    "print(cdf)\n"
   ]
  },
  {
   "cell_type": "code",
   "execution_count": 42,
   "metadata": {},
   "outputs": [
    {
     "name": "stdout",
     "output_type": "stream",
     "text": [
      "              city  temperature  humidity\n",
      "india 0      Delhi           30        70\n",
      "      1     Mumbai           49        65\n",
      "      2    Kolkata           34        34\n",
      "      3    Chennai           42        69\n",
      "us    0    Lucknow           40        40\n",
      "      1   Banglore           43        65\n",
      "      2  Tamilnadu           44        44\n",
      "      3     Sikkim           32        59\n"
     ]
    }
   ],
   "source": [
    "#Give alternate index\n",
    "cdf=pd.concat([df1,df2],keys=[\"india\",\"us\"])\n",
    "print(cdf)"
   ]
  },
  {
   "cell_type": "code",
   "execution_count": 44,
   "metadata": {},
   "outputs": [
    {
     "name": "stdout",
     "output_type": "stream",
     "text": [
      "      city  temperature  humidity\n",
      "0    Delhi           30        70\n",
      "1   Mumbai           49        65\n",
      "2  Kolkata           34        34\n",
      "3  Chennai           42        69\n"
     ]
    }
   ],
   "source": [
    "#Subset of concatinated dataframe using key flag\n",
    "print(cdf.loc[\"india\"])"
   ]
  },
  {
   "cell_type": "code",
   "execution_count": 66,
   "metadata": {},
   "outputs": [
    {
     "name": "stdout",
     "output_type": "stream",
     "text": [
      "      city  temperature\n",
      "1    Delhi           30\n",
      "2   Mumbai           49\n",
      "3  Kolkata           34\n",
      "4  Chennai           42\n"
     ]
    }
   ],
   "source": [
    "tmp_df=pd.DataFrame({\n",
    "    \"city\":[\"Delhi\",\"Mumbai\",\"Kolkata\",\"Chennai\"],\n",
    "    \"temperature\":[30,49,34,42]\n",
    "},index=[1,2,3,4])\n",
    "print(tmp_df)"
   ]
  },
  {
   "cell_type": "code",
   "execution_count": 103,
   "metadata": {},
   "outputs": [
    {
     "name": "stdout",
     "output_type": "stream",
     "text": [
      "      city  wind_speed\n",
      "3  Kolkata           9\n",
      "4  Chennai          13\n"
     ]
    }
   ],
   "source": [
    "windspd_df=pd.DataFrame({\n",
    "    \"city\":[\"Kolkata\",\"Chennai\"],\n",
    "    \"wind_speed\":[9,13]\n",
    "},index=[3,4])\n",
    "print(windspd_df)"
   ]
  },
  {
   "cell_type": "code",
   "execution_count": 69,
   "metadata": {},
   "outputs": [
    {
     "name": "stdout",
     "output_type": "stream",
     "text": [
      "      city  temperature     city  wind_speed\n",
      "1    Delhi           30      NaN         NaN\n",
      "2   Mumbai           49      NaN         NaN\n",
      "3  Kolkata           34  Kolkata         9.0\n",
      "4  Chennai           42  Chennai        13.0\n"
     ]
    }
   ],
   "source": [
    "#append two tmp_df & windspd_df dataframe\n",
    "concat_df=pd.concat([tmp_df,windspd_df],axis=1)\n",
    "print(concat_df)"
   ]
  },
  {
   "cell_type": "code",
   "execution_count": 71,
   "metadata": {},
   "outputs": [
    {
     "name": "stdout",
     "output_type": "stream",
     "text": [
      "1    Humid\n",
      "2      Dry\n",
      "3     Rain\n",
      "Name: Weather, dtype: object\n"
     ]
    }
   ],
   "source": [
    "new_data=pd.Series([\"Humid\",\"Dry\",\"Rain\"],name=\"Weather\",index=[1,2,3])\n",
    "print(new_data)"
   ]
  },
  {
   "cell_type": "code",
   "execution_count": 102,
   "metadata": {},
   "outputs": [
    {
     "name": "stdout",
     "output_type": "stream",
     "text": [
      "      city  temperature     city  wind_speed Weather\n",
      "1    Delhi           30      NaN         NaN   Humid\n",
      "2   Mumbai           49      NaN         NaN     Dry\n",
      "3  Kolkata           34  Kolkata         9.0    Rain\n",
      "4  Chennai           42  Chennai        13.0     NaN\n"
     ]
    }
   ],
   "source": [
    "import numpy as np\n",
    "#add new row in dataframe\n",
    "cdf=pd.concat([concat_df,new_data],axis=1)\n",
    "cdf=cdf.replace({\"wind_speed\":0},np.NaN)\n",
    "print(cdf)"
   ]
  }
 ],
 "metadata": {
  "kernelspec": {
   "display_name": "Python 3",
   "language": "python",
   "name": "python3"
  },
  "language_info": {
   "codemirror_mode": {
    "name": "ipython",
    "version": 3
   },
   "file_extension": ".py",
   "mimetype": "text/x-python",
   "name": "python",
   "nbconvert_exporter": "python",
   "pygments_lexer": "ipython3",
   "version": "3.7.4"
  }
 },
 "nbformat": 4,
 "nbformat_minor": 2
}
